{
 "cells": [
  {
   "cell_type": "code",
   "execution_count": 36,
   "metadata": {},
   "outputs": [],
   "source": [
    "import pandas as pd\n",
    "import matplotlib.pyplot as plt\n",
    "import seaborn as sns"
   ]
  },
  {
   "attachments": {},
   "cell_type": "markdown",
   "metadata": {},
   "source": [
    "# Uploading Datasets."
   ]
  },
  {
   "cell_type": "code",
   "execution_count": 37,
   "metadata": {},
   "outputs": [],
   "source": [
    "card_details = pd.read_csv('Card Details.csv')"
   ]
  },
  {
   "cell_type": "code",
   "execution_count": 38,
   "metadata": {},
   "outputs": [],
   "source": [
    "customer_details = pd.read_csv('Customer Details.csv',encoding='windows-1252')"
   ]
  },
  {
   "attachments": {},
   "cell_type": "markdown",
   "metadata": {},
   "source": [
    "# Joining Both Datasets."
   ]
  },
  {
   "cell_type": "code",
   "execution_count": 39,
   "metadata": {},
   "outputs": [],
   "source": [
    "df = customer_details.merge(card_details,on='CustomerID')"
   ]
  },
  {
   "cell_type": "code",
   "execution_count": 40,
   "metadata": {},
   "outputs": [
    {
     "data": {
      "text/html": [
       "<div>\n",
       "<style scoped>\n",
       "    .dataframe tbody tr th:only-of-type {\n",
       "        vertical-align: middle;\n",
       "    }\n",
       "\n",
       "    .dataframe tbody tr th {\n",
       "        vertical-align: top;\n",
       "    }\n",
       "\n",
       "    .dataframe thead th {\n",
       "        text-align: right;\n",
       "    }\n",
       "</style>\n",
       "<table border=\"1\" class=\"dataframe\">\n",
       "  <thead>\n",
       "    <tr style=\"text-align: right;\">\n",
       "      <th></th>\n",
       "      <th>Name</th>\n",
       "      <th>CustomerID</th>\n",
       "      <th>Age</th>\n",
       "      <th>Marital Status</th>\n",
       "      <th>Gender</th>\n",
       "      <th>Ethnicity</th>\n",
       "      <th>Education</th>\n",
       "      <th>Income</th>\n",
       "      <th>Limit</th>\n",
       "      <th>Rating</th>\n",
       "      <th>Cards</th>\n",
       "      <th>Balance</th>\n",
       "    </tr>\n",
       "  </thead>\n",
       "  <tbody>\n",
       "    <tr>\n",
       "      <th>0</th>\n",
       "      <td>Katherine Bettcher</td>\n",
       "      <td>0002-ORFBO</td>\n",
       "      <td>30</td>\n",
       "      <td>Married</td>\n",
       "      <td>Male</td>\n",
       "      <td>Caucasian</td>\n",
       "      <td>Master</td>\n",
       "      <td>105.038</td>\n",
       "      <td>9142</td>\n",
       "      <td>734</td>\n",
       "      <td>3</td>\n",
       "      <td>232</td>\n",
       "    </tr>\n",
       "    <tr>\n",
       "      <th>1</th>\n",
       "      <td>Alejandro Graham</td>\n",
       "      <td>0002-ORFBOA</td>\n",
       "      <td>71</td>\n",
       "      <td>Married</td>\n",
       "      <td>Male</td>\n",
       "      <td>Asian</td>\n",
       "      <td>Bachelor</td>\n",
       "      <td>69.820</td>\n",
       "      <td>4223</td>\n",
       "      <td>389</td>\n",
       "      <td>1</td>\n",
       "      <td>924</td>\n",
       "    </tr>\n",
       "    <tr>\n",
       "      <th>2</th>\n",
       "      <td>Priscilla Ian</td>\n",
       "      <td>0002-ORFBOC</td>\n",
       "      <td>46</td>\n",
       "      <td>Seperated</td>\n",
       "      <td>Male</td>\n",
       "      <td>African American</td>\n",
       "      <td>Senior Secondary</td>\n",
       "      <td>17.441</td>\n",
       "      <td>2430</td>\n",
       "      <td>253</td>\n",
       "      <td>1</td>\n",
       "      <td>20</td>\n",
       "    </tr>\n",
       "    <tr>\n",
       "      <th>3</th>\n",
       "      <td>Ovella</td>\n",
       "      <td>0002-ORFBOCH</td>\n",
       "      <td>42</td>\n",
       "      <td>Married</td>\n",
       "      <td>Female</td>\n",
       "      <td>Caucasian</td>\n",
       "      <td>Senior Secondary</td>\n",
       "      <td>39.368</td>\n",
       "      <td>3829</td>\n",
       "      <td>248</td>\n",
       "      <td>3</td>\n",
       "      <td>813</td>\n",
       "    </tr>\n",
       "    <tr>\n",
       "      <th>4</th>\n",
       "      <td>Juliann</td>\n",
       "      <td>0002-ORFBOH</td>\n",
       "      <td>30</td>\n",
       "      <td>Married</td>\n",
       "      <td>Male</td>\n",
       "      <td>African American</td>\n",
       "      <td>Doctorate</td>\n",
       "      <td>56.375</td>\n",
       "      <td>2850</td>\n",
       "      <td>258</td>\n",
       "      <td>1</td>\n",
       "      <td>109</td>\n",
       "    </tr>\n",
       "    <tr>\n",
       "      <th>...</th>\n",
       "      <td>...</td>\n",
       "      <td>...</td>\n",
       "      <td>...</td>\n",
       "      <td>...</td>\n",
       "      <td>...</td>\n",
       "      <td>...</td>\n",
       "      <td>...</td>\n",
       "      <td>...</td>\n",
       "      <td>...</td>\n",
       "      <td>...</td>\n",
       "      <td>...</td>\n",
       "      <td>...</td>\n",
       "    </tr>\n",
       "    <tr>\n",
       "      <th>32542</th>\n",
       "      <td>Oletta</td>\n",
       "      <td>9992-UJOELH</td>\n",
       "      <td>34</td>\n",
       "      <td>Unmarried</td>\n",
       "      <td>Male</td>\n",
       "      <td>Caucasian</td>\n",
       "      <td>Bachelor</td>\n",
       "      <td>32.930</td>\n",
       "      <td>4222</td>\n",
       "      <td>308</td>\n",
       "      <td>4</td>\n",
       "      <td>162</td>\n",
       "    </tr>\n",
       "    <tr>\n",
       "      <th>32543</th>\n",
       "      <td>Leesa Hugo</td>\n",
       "      <td>9993-LHIEB</td>\n",
       "      <td>61</td>\n",
       "      <td>Married</td>\n",
       "      <td>Female</td>\n",
       "      <td>Caucasian</td>\n",
       "      <td>Senior High School</td>\n",
       "      <td>12.469</td>\n",
       "      <td>5645</td>\n",
       "      <td>311</td>\n",
       "      <td>2</td>\n",
       "      <td>487</td>\n",
       "    </tr>\n",
       "    <tr>\n",
       "      <th>32544</th>\n",
       "      <td>Oliva</td>\n",
       "      <td>9993-LHIEBH</td>\n",
       "      <td>64</td>\n",
       "      <td>Unmarried</td>\n",
       "      <td>Male</td>\n",
       "      <td>Caucasian</td>\n",
       "      <td>Senior Secondary</td>\n",
       "      <td>64.167</td>\n",
       "      <td>3116</td>\n",
       "      <td>285</td>\n",
       "      <td>3</td>\n",
       "      <td>576</td>\n",
       "    </tr>\n",
       "    <tr>\n",
       "      <th>32545</th>\n",
       "      <td>Hank Hunter</td>\n",
       "      <td>9995-HOTOH</td>\n",
       "      <td>77</td>\n",
       "      <td>Unmarried</td>\n",
       "      <td>Female</td>\n",
       "      <td>Caucasian</td>\n",
       "      <td>Bachelor</td>\n",
       "      <td>20.970</td>\n",
       "      <td>1356</td>\n",
       "      <td>161</td>\n",
       "      <td>2</td>\n",
       "      <td>0</td>\n",
       "    </tr>\n",
       "    <tr>\n",
       "      <th>32546</th>\n",
       "      <td>Orie</td>\n",
       "      <td>9995-HOTOHH</td>\n",
       "      <td>47</td>\n",
       "      <td>Unmarried</td>\n",
       "      <td>Female</td>\n",
       "      <td>Caucasian</td>\n",
       "      <td>Master</td>\n",
       "      <td>35.337</td>\n",
       "      <td>3663</td>\n",
       "      <td>261</td>\n",
       "      <td>5</td>\n",
       "      <td>176</td>\n",
       "    </tr>\n",
       "  </tbody>\n",
       "</table>\n",
       "<p>32547 rows × 12 columns</p>\n",
       "</div>"
      ],
      "text/plain": [
       "                     Name    CustomerID  Age Marital Status  Gender  \\\n",
       "0      Katherine Bettcher    0002-ORFBO   30        Married    Male   \n",
       "1        Alejandro Graham   0002-ORFBOA   71        Married    Male   \n",
       "2           Priscilla Ian   0002-ORFBOC   46      Seperated    Male   \n",
       "3                  Ovella  0002-ORFBOCH   42        Married  Female   \n",
       "4                 Juliann   0002-ORFBOH   30        Married    Male   \n",
       "...                   ...           ...  ...            ...     ...   \n",
       "32542              Oletta   9992-UJOELH   34      Unmarried    Male   \n",
       "32543          Leesa Hugo    9993-LHIEB   61        Married  Female   \n",
       "32544               Oliva   9993-LHIEBH   64      Unmarried    Male   \n",
       "32545         Hank Hunter    9995-HOTOH   77      Unmarried  Female   \n",
       "32546                Orie   9995-HOTOHH   47      Unmarried  Female   \n",
       "\n",
       "              Ethnicity           Education   Income  Limit  Rating  Cards  \\\n",
       "0             Caucasian              Master  105.038   9142     734      3   \n",
       "1                 Asian            Bachelor   69.820   4223     389      1   \n",
       "2      African American    Senior Secondary   17.441   2430     253      1   \n",
       "3             Caucasian    Senior Secondary   39.368   3829     248      3   \n",
       "4      African American           Doctorate   56.375   2850     258      1   \n",
       "...                 ...                 ...      ...    ...     ...    ...   \n",
       "32542         Caucasian            Bachelor   32.930   4222     308      4   \n",
       "32543         Caucasian  Senior High School   12.469   5645     311      2   \n",
       "32544         Caucasian    Senior Secondary   64.167   3116     285      3   \n",
       "32545         Caucasian            Bachelor   20.970   1356     161      2   \n",
       "32546         Caucasian              Master   35.337   3663     261      5   \n",
       "\n",
       "       Balance  \n",
       "0          232  \n",
       "1          924  \n",
       "2           20  \n",
       "3          813  \n",
       "4          109  \n",
       "...        ...  \n",
       "32542      162  \n",
       "32543      487  \n",
       "32544      576  \n",
       "32545        0  \n",
       "32546      176  \n",
       "\n",
       "[32547 rows x 12 columns]"
      ]
     },
     "execution_count": 40,
     "metadata": {},
     "output_type": "execute_result"
    }
   ],
   "source": [
    "df"
   ]
  },
  {
   "attachments": {},
   "cell_type": "markdown",
   "metadata": {},
   "source": [
    "# Cleaning data by removing duplicate, missing, and irrelevant values."
   ]
  },
  {
   "cell_type": "code",
   "execution_count": 41,
   "metadata": {},
   "outputs": [],
   "source": [
    "df = df.drop_duplicates()"
   ]
  },
  {
   "cell_type": "code",
   "execution_count": 42,
   "metadata": {},
   "outputs": [],
   "source": [
    "df.dropna(inplace=True)"
   ]
  },
  {
   "cell_type": "code",
   "execution_count": 43,
   "metadata": {},
   "outputs": [
    {
     "name": "stdout",
     "output_type": "stream",
     "text": [
      "<class 'pandas.core.frame.DataFrame'>\n",
      "Int64Index: 32547 entries, 0 to 32546\n",
      "Data columns (total 12 columns):\n",
      " #   Column          Non-Null Count  Dtype  \n",
      "---  ------          --------------  -----  \n",
      " 0   Name            32547 non-null  object \n",
      " 1   CustomerID      32547 non-null  object \n",
      " 2   Age             32547 non-null  int64  \n",
      " 3   Marital Status  32547 non-null  object \n",
      " 4   Gender          32547 non-null  object \n",
      " 5   Ethnicity       32547 non-null  object \n",
      " 6   Education       32547 non-null  object \n",
      " 7   Income          32547 non-null  float64\n",
      " 8   Limit           32547 non-null  int64  \n",
      " 9   Rating          32547 non-null  int64  \n",
      " 10  Cards           32547 non-null  int64  \n",
      " 11  Balance         32547 non-null  int64  \n",
      "dtypes: float64(1), int64(5), object(6)\n",
      "memory usage: 3.2+ MB\n"
     ]
    }
   ],
   "source": [
    "df.info()"
   ]
  },
  {
   "attachments": {},
   "cell_type": "markdown",
   "metadata": {},
   "source": [
    "# Analyzing the data to understand its characteristics and trends."
   ]
  },
  {
   "attachments": {},
   "cell_type": "markdown",
   "metadata": {},
   "source": [
    "1. Descriptive Analysis. Using all Numerical Columns."
   ]
  },
  {
   "cell_type": "code",
   "execution_count": 44,
   "metadata": {},
   "outputs": [
    {
     "data": {
      "text/html": [
       "<div>\n",
       "<style scoped>\n",
       "    .dataframe tbody tr th:only-of-type {\n",
       "        vertical-align: middle;\n",
       "    }\n",
       "\n",
       "    .dataframe tbody tr th {\n",
       "        vertical-align: top;\n",
       "    }\n",
       "\n",
       "    .dataframe thead th {\n",
       "        text-align: right;\n",
       "    }\n",
       "</style>\n",
       "<table border=\"1\" class=\"dataframe\">\n",
       "  <thead>\n",
       "    <tr style=\"text-align: right;\">\n",
       "      <th></th>\n",
       "      <th>Age</th>\n",
       "      <th>Income</th>\n",
       "      <th>Limit</th>\n",
       "      <th>Rating</th>\n",
       "      <th>Cards</th>\n",
       "      <th>Balance</th>\n",
       "    </tr>\n",
       "  </thead>\n",
       "  <tbody>\n",
       "    <tr>\n",
       "      <th>count</th>\n",
       "      <td>32547.000000</td>\n",
       "      <td>32547.000000</td>\n",
       "      <td>32547.000000</td>\n",
       "      <td>32547.000000</td>\n",
       "      <td>32547.000000</td>\n",
       "      <td>32547.000000</td>\n",
       "    </tr>\n",
       "    <tr>\n",
       "      <th>mean</th>\n",
       "      <td>55.476419</td>\n",
       "      <td>46.490372</td>\n",
       "      <td>4419.522322</td>\n",
       "      <td>326.720159</td>\n",
       "      <td>2.906658</td>\n",
       "      <td>447.894706</td>\n",
       "    </tr>\n",
       "    <tr>\n",
       "      <th>std</th>\n",
       "      <td>16.990896</td>\n",
       "      <td>37.140511</td>\n",
       "      <td>2202.441042</td>\n",
       "      <td>136.146945</td>\n",
       "      <td>1.325485</td>\n",
       "      <td>454.205934</td>\n",
       "    </tr>\n",
       "    <tr>\n",
       "      <th>min</th>\n",
       "      <td>25.000000</td>\n",
       "      <td>10.627000</td>\n",
       "      <td>1134.000000</td>\n",
       "      <td>119.000000</td>\n",
       "      <td>1.000000</td>\n",
       "      <td>0.000000</td>\n",
       "    </tr>\n",
       "    <tr>\n",
       "      <th>25%</th>\n",
       "      <td>42.000000</td>\n",
       "      <td>20.661500</td>\n",
       "      <td>2727.000000</td>\n",
       "      <td>224.000000</td>\n",
       "      <td>2.000000</td>\n",
       "      <td>5.000000</td>\n",
       "    </tr>\n",
       "    <tr>\n",
       "      <th>50%</th>\n",
       "      <td>55.000000</td>\n",
       "      <td>33.469000</td>\n",
       "      <td>4178.000000</td>\n",
       "      <td>316.000000</td>\n",
       "      <td>3.000000</td>\n",
       "      <td>331.000000</td>\n",
       "    </tr>\n",
       "    <tr>\n",
       "      <th>75%</th>\n",
       "      <td>69.000000</td>\n",
       "      <td>58.075000</td>\n",
       "      <td>5636.000000</td>\n",
       "      <td>405.000000</td>\n",
       "      <td>4.000000</td>\n",
       "      <td>749.000000</td>\n",
       "    </tr>\n",
       "    <tr>\n",
       "      <th>max</th>\n",
       "      <td>86.000000</td>\n",
       "      <td>160.231000</td>\n",
       "      <td>11200.000000</td>\n",
       "      <td>805.000000</td>\n",
       "      <td>7.000000</td>\n",
       "      <td>1597.000000</td>\n",
       "    </tr>\n",
       "  </tbody>\n",
       "</table>\n",
       "</div>"
      ],
      "text/plain": [
       "                Age        Income         Limit        Rating         Cards  \\\n",
       "count  32547.000000  32547.000000  32547.000000  32547.000000  32547.000000   \n",
       "mean      55.476419     46.490372   4419.522322    326.720159      2.906658   \n",
       "std       16.990896     37.140511   2202.441042    136.146945      1.325485   \n",
       "min       25.000000     10.627000   1134.000000    119.000000      1.000000   \n",
       "25%       42.000000     20.661500   2727.000000    224.000000      2.000000   \n",
       "50%       55.000000     33.469000   4178.000000    316.000000      3.000000   \n",
       "75%       69.000000     58.075000   5636.000000    405.000000      4.000000   \n",
       "max       86.000000    160.231000  11200.000000    805.000000      7.000000   \n",
       "\n",
       "            Balance  \n",
       "count  32547.000000  \n",
       "mean     447.894706  \n",
       "std      454.205934  \n",
       "min        0.000000  \n",
       "25%        5.000000  \n",
       "50%      331.000000  \n",
       "75%      749.000000  \n",
       "max     1597.000000  "
      ]
     },
     "execution_count": 44,
     "metadata": {},
     "output_type": "execute_result"
    }
   ],
   "source": [
    "new_df = df[['Age','Income','Limit','Rating','Cards','Balance']]\n",
    "new_df.describe()"
   ]
  },
  {
   "attachments": {},
   "cell_type": "markdown",
   "metadata": {},
   "source": [
    "2. Data Visualization."
   ]
  },
  {
   "cell_type": "code",
   "execution_count": 45,
   "metadata": {},
   "outputs": [
    {
     "data": {
      "image/png": "[encoded data removed]",
      "text/plain": [
       "<Figure size 640x480 with 1 Axes>"
      ]
     },
     "metadata": {},
     "output_type": "display_data"
    }
   ],
   "source": [
    "plt.hist(df['Age'],color='green')\n",
    "plt.xlabel('Age')\n",
    "plt.ylabel('Frequency')\n",
    "plt.title('Distribution of Age')\n",
    "plt.show()"
   ]
  },
  {
   "attachments": {},
   "cell_type": "markdown",
   "metadata": {},
   "source": [
    "3. Correlation Analysis."
   ]
  },
  {
   "cell_type": "code",
   "execution_count": 46,
   "metadata": {},
   "outputs": [
    {
     "data": {
      "image/png": "[encoded data removed]",
      "text/plain": [
       "<Figure size 640x480 with 2 Axes>"
      ]
     },
     "metadata": {},
     "output_type": "display_data"
    }
   ],
   "source": [
    "sns.heatmap(new_df.corr(),annot=True,cmap='crest')\n",
    "plt.show()"
   ]
  },
  {
   "attachments": {},
   "cell_type": "markdown",
   "metadata": {},
   "source": [
    "# Address any errors or inconsistencies in the data."
   ]
  },
  {
   "attachments": {},
   "cell_type": "markdown",
   "metadata": {},
   "source": [
    "Addressing errors or inconsistencies in the data involves identifying and resolving issues that affect data quality.\n",
    "Like droping Missing Values, Detecting Outliers, Insonsistent or Iincorrect Data, Data validation and verification and Droping duplicates."
   ]
  },
  {
   "attachments": {},
   "cell_type": "markdown",
   "metadata": {},
   "source": [
    "# Ensuring that the data is suitable for analysis."
   ]
  },
  {
   "attachments": {},
   "cell_type": "markdown",
   "metadata": {},
   "source": [
    "To ensure that the data is suitable for analysis, we need to follow few steps:-\n",
    "Data Cleaning, Data Formatting, Data Integration etc."
   ]
  }
 ],
 "metadata": {
  "kernelspec": {
   "display_name": "Python 3",
   "language": "python",
   "name": "python3"
  },
  "language_info": {
   "codemirror_mode": {
    "name": "ipython",
    "version": 3
   },
   "file_extension": ".py",
   "mimetype": "text/x-python",
   "name": "python",
   "nbconvert_exporter": "python",
   "pygments_lexer": "ipython3",
   "version": "3.10.11"
  },
  "orig_nbformat": 4
 },
 "nbformat": 4,
 "nbformat_minor": 2
}
